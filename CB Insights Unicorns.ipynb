{
 "cells": [
  {
   "cell_type": "markdown",
   "id": "b2bea843-69b5-4cf8-b05f-857a72ed8290",
   "metadata": {
    "tags": []
   },
   "source": [
    "### CB Insights List of Unicorn Companies\n",
    "\n",
    "This script scrapes the list from the CB Insights webpage and exports it to an Excel file\n",
    "\n",
    "Link to webpage: https://www.cbinsights.com/research-unicorn-companies"
   ]
  },
  {
   "cell_type": "code",
   "execution_count": 1,
   "id": "b68f37fb-90f2-48d5-9736-82f589bd4aa3",
   "metadata": {
    "tags": []
   },
   "outputs": [],
   "source": [
    "import bs4\n",
    "import pandas as pd\n",
    "import requests\n",
    "from bs4 import BeautifulSoup"
   ]
  },
  {
   "cell_type": "code",
   "execution_count": 2,
   "id": "cdcfda0f-b75d-47d5-85a7-4441c9954892",
   "metadata": {},
   "outputs": [],
   "source": [
    "url = \"https://www.cbinsights.com/research-unicorn-companies\"\n",
    "unicorns = requests.get(url)"
   ]
  },
  {
   "cell_type": "code",
   "execution_count": 3,
   "id": "2258ce4f-971d-4eb2-a0cf-a1662f39fa96",
   "metadata": {},
   "outputs": [],
   "source": [
    "unicorn_soup = BeautifulSoup(unicorns.content) # returns the html from the target page"
   ]
  },
  {
   "cell_type": "code",
   "execution_count": 4,
   "id": "30b78dba-f980-4f00-ae61-b1b9daab6485",
   "metadata": {
    "tags": []
   },
   "outputs": [],
   "source": [
    "unicorn_table = unicorn_soup.find('table')"
   ]
  },
  {
   "cell_type": "code",
   "execution_count": 5,
   "id": "c079a6d7-6a50-4ea8-86a6-955961885ed5",
   "metadata": {
    "tags": []
   },
   "outputs": [],
   "source": [
    "# print(unicorn_table.find('tr').text) # table headers"
   ]
  },
  {
   "cell_type": "code",
   "execution_count": 6,
   "id": "1083b028-3c0e-4f9c-82d8-6b9b698d7cd7",
   "metadata": {
    "tags": []
   },
   "outputs": [],
   "source": [
    "# print(unicorn_table.find_all('tr')) # table data"
   ]
  },
  {
   "cell_type": "code",
   "execution_count": 7,
   "id": "5edd014c-91a9-4291-88f5-ff6a4e3ef3f7",
   "metadata": {
    "tags": []
   },
   "outputs": [],
   "source": [
    "company = [(i.find('a').text) for i in unicorn_table.find_all('tr')[1:]]"
   ]
  },
  {
   "cell_type": "code",
   "execution_count": 8,
   "id": "06882875-7cb4-4497-9b25-56b8b8047c33",
   "metadata": {
    "tags": []
   },
   "outputs": [],
   "source": [
    "valuation = [(i.find_all('td')[1].text) for i in unicorn_table.find_all('tr')[1:]]\n",
    "valuation = [i.strip(' ') for i in valuation] # getting rid of fore and trailspaces\n",
    "valuation = [float(i.strip('$')) for i in valuation] # removing dollar signs"
   ]
  },
  {
   "cell_type": "code",
   "execution_count": 9,
   "id": "1a8da609-a27e-4860-a00a-ae2d066fc867",
   "metadata": {
    "tags": []
   },
   "outputs": [],
   "source": [
    "# date is in day-month-year format\n",
    "date_joined = [pd.to_datetime(i.find_all('td')[2].text).strftime('%d/%m/%Y') for i in unicorn_table.find_all('tr')[1:]]"
   ]
  },
  {
   "cell_type": "code",
   "execution_count": 10,
   "id": "1bcb98b4-0458-4745-97ed-fbfb32288c34",
   "metadata": {
    "tags": []
   },
   "outputs": [],
   "source": [
    "country = [(i.find_all('td')[3].text) for i in unicorn_table.find_all('tr')[1:]]"
   ]
  },
  {
   "cell_type": "code",
   "execution_count": 11,
   "id": "d75cdd8f-fd78-405c-a057-4f50e229c410",
   "metadata": {
    "tags": []
   },
   "outputs": [],
   "source": [
    "city = [(i.find_all('td')[4].text) for i in unicorn_table.find_all('tr')[1:]]"
   ]
  },
  {
   "cell_type": "code",
   "execution_count": 12,
   "id": "df3d723a-d1bf-47da-96a6-05e8af76cb33",
   "metadata": {
    "tags": []
   },
   "outputs": [],
   "source": [
    "industry = [(i.find_all('td')[5].text) for i in unicorn_table.find_all('tr')[1:]];"
   ]
  },
  {
   "cell_type": "code",
   "execution_count": 13,
   "id": "0a078599-db07-4da3-a075-980b17c3fd60",
   "metadata": {},
   "outputs": [],
   "source": [
    "select_investors = [(i.find_all('td')[6].text) for i in unicorn_table.find_all('tr')[1:]]"
   ]
  },
  {
   "cell_type": "code",
   "execution_count": 14,
   "id": "5597e6db-ba80-41fb-85ce-15ef152b1974",
   "metadata": {},
   "outputs": [],
   "source": [
    "unicorn_df = pd.DataFrame({'Company': company, 'Valuation': valuation, 'Date_Joined': date_joined, \n",
    "              'Country': country, 'City': city, 'Industry': industry, 'Select_Investors': select_investors})"
   ]
  },
  {
   "cell_type": "code",
   "execution_count": 15,
   "id": "1a0a1b9a-0f3a-4a24-bc84-62d54bd200ec",
   "metadata": {},
   "outputs": [],
   "source": [
    "# export to excel - note that it's saved to downloads file\n",
    "# insert file path below\n",
    "unicorn_df.to_excel(\"CB Insights Unicorns List.xlsx\", index = False)"
   ]
  }
 ],
 "metadata": {
  "kernelspec": {
   "display_name": "Python 3 (ipykernel)",
   "language": "python",
   "name": "python3"
  },
  "language_info": {
   "codemirror_mode": {
    "name": "ipython",
    "version": 3
   },
   "file_extension": ".py",
   "mimetype": "text/x-python",
   "name": "python",
   "nbconvert_exporter": "python",
   "pygments_lexer": "ipython3",
   "version": "3.9.7"
  }
 },
 "nbformat": 4,
 "nbformat_minor": 5
}
